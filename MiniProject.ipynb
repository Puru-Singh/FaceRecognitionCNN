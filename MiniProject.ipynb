{
 "cells": [
  {
   "cell_type": "code",
   "execution_count": 25,
   "id": "0fd35a65-9280-472c-8f0a-62ea09c95b0c",
   "metadata": {},
   "outputs": [],
   "source": [
    "# taking images from camera\n",
    "import cv2\n",
    "cap = cv2.VideoCapture(0)\n",
    "\n",
    "def testVideoCam():\n",
    "    while True:\n",
    "        has_frame, frame = cap.read()\n",
    "        if not has_frame:\n",
    "            print('No frames are captured')\n",
    "            break\n",
    "        #frame = cv2.resize(frame,(160,160))\n",
    "        cv2.imshow('testFrame',frame)\n",
    "        key = cv2.waitKey(3)\n",
    "        if key == 27:\n",
    "            print('Pressed Esc')\n",
    "            break\n",
    "    cap.release()\n",
    "    cv2.destroyAllWindows()\n",
    "    return\n",
    "\n",
    "#testVideoCam()\n",
    "\n",
    "#capture image for training\n",
    "for i in range(10):\n",
    "    has_frame, frame = cap.read()\n",
    "    if not has_frame:\n",
    "        print('No frames are captured')\n",
    "    #frame = cv2.resize(frame,(160,160))\n",
    "    \n",
    "cv2.imshow('testFrame',frame)\n",
    "cv2.waitKey(0)\n",
    "cv2.destroyAllWindows()\n",
    "\n"
   ]
  },
  {
   "cell_type": "code",
   "execution_count": 26,
   "id": "ca30f7bc-c258-4017-88ab-13a5dee1a442",
   "metadata": {},
   "outputs": [
    {
     "data": {
      "text/plain": [
       "True"
      ]
     },
     "execution_count": 26,
     "metadata": {},
     "output_type": "execute_result"
    }
   ],
   "source": [
    "#saving the trainImage\n",
    "filepath = \"C:\\\\FaceRecognitionFiles\\\\\"\n",
    "cv2.imwrite(filepath+'trainImage.jpg',frame)"
   ]
  },
  {
   "cell_type": "code",
   "execution_count": 39,
   "id": "0a095d1e-49bf-42a9-b030-db2e429582b2",
   "metadata": {},
   "outputs": [],
   "source": [
    "#detect face from saved trainImage\n",
    "from PIL import Image\n",
    "from mtcnn.mtcnn import MTCNN\n",
    "import numpy as np\n",
    "import matplotlib.pyplot as plt\n",
    "detector = MTCNN()"
   ]
  },
  {
   "cell_type": "code",
   "execution_count": 28,
   "id": "449dec85-8085-46f7-99ba-c25ad0af231a",
   "metadata": {},
   "outputs": [
    {
     "name": "stdout",
     "output_type": "stream",
     "text": [
      "1/1 [==============================] - 0s 77ms/step\n",
      "WARNING:tensorflow:5 out of the last 15 calls to <function Model.make_predict_function.<locals>.predict_function at 0x0000025B90F60D30> triggered tf.function retracing. Tracing is expensive and the excessive number of tracings could be due to (1) creating @tf.function repeatedly in a loop, (2) passing tensors with different shapes, (3) passing Python objects instead of tensors. For (1), please define your @tf.function outside of the loop. For (2), @tf.function has reduce_retracing=True option that can avoid unnecessary retracing. For (3), please refer to https://www.tensorflow.org/guide/function#controlling_retracing and https://www.tensorflow.org/api_docs/python/tf/function for  more details.\n",
      "1/1 [==============================] - 0s 71ms/step\n",
      "1/1 [==============================] - 0s 14ms/step\n",
      "1/1 [==============================] - 0s 15ms/step\n",
      "1/1 [==============================] - 0s 15ms/step\n",
      "1/1 [==============================] - 0s 18ms/step\n",
      "1/1 [==============================] - 0s 16ms/step\n",
      "1/1 [==============================] - 0s 15ms/step\n",
      "1/1 [==============================] - 0s 16ms/step\n",
      "1/1 [==============================] - 0s 15ms/step\n",
      "2/2 [==============================] - 0s 281ms/step\n",
      "1/1 [==============================] - 0s 221ms/step\n"
     ]
    }
   ],
   "source": [
    "trainface_metadata = detector.detect_faces(frame) #extracting faces from trainImage"
   ]
  },
  {
   "cell_type": "code",
   "execution_count": 29,
   "id": "69cb4848-bccc-4dc8-80c1-abdcd3fd2b74",
   "metadata": {},
   "outputs": [
    {
     "name": "stdout",
     "output_type": "stream",
     "text": [
      "number of faces detected =  1\n"
     ]
    }
   ],
   "source": [
    "print('number of faces detected = ', len(trainface_metadata))"
   ]
  },
  {
   "cell_type": "code",
   "execution_count": 30,
   "id": "cb3ca263-ab5e-4dd5-ad18-17cac3d09cbc",
   "metadata": {},
   "outputs": [
    {
     "name": "stdout",
     "output_type": "stream",
     "text": [
      "{'box': [300, 150, 142, 176], 'confidence': 0.999784529209137, 'keypoints': {'left_eye': (337, 215), 'right_eye': (402, 208), 'nose': (372, 244), 'mouth_left': (352, 286), 'mouth_right': (404, 281)}}\n"
     ]
    }
   ],
   "source": [
    "print(trainface_metadata[0])"
   ]
  },
  {
   "cell_type": "code",
   "execution_count": 31,
   "id": "8752b1ba-2757-4801-a484-e8b93ea1167c",
   "metadata": {},
   "outputs": [],
   "source": [
    "#detecting face coordinates\n",
    "x = int(trainface_metadata[0]['box'][0])\n",
    "y = int(trainface_metadata[0]['box'][1])\n",
    "w = int(trainface_metadata[0]['box'][2])\n",
    "h = int(trainface_metadata[0]['box'][3])\n",
    "\n",
    "detected_face = cv2.rectangle(frame, (x,y),(x+w,y+h), color=255, thickness=3) #see the detected face outlines\n",
    "cv2.imshow('Detected face with rectangle',detected_face)\n",
    "cv2.waitKey(0)\n",
    "cv2.destroyAllWindows()"
   ]
  },
  {
   "cell_type": "code",
   "execution_count": 41,
   "id": "af575749-afb0-4488-888b-3fad2b153386",
   "metadata": {},
   "outputs": [],
   "source": [
    "#cropping the image to required size 160,160\n",
    "face = frame[y:y+h, x:x+w]\n",
    "face = Image.fromarray(face)\n",
    "face = face.resize((160,160))\n",
    "face = np.asarray(face)"
   ]
  },
  {
   "cell_type": "code",
   "execution_count": 42,
   "id": "9f3dbcfb-a9f4-4da9-b72b-fd1b68f7853f",
   "metadata": {},
   "outputs": [],
   "source": [
    "#display cropped image\n",
    "cv2.imshow('Cropped image', face)\n",
    "cv2.waitKey(0)\n",
    "cv2.destroyAllWindows()"
   ]
  },
  {
   "cell_type": "code",
   "execution_count": 45,
   "id": "5b95cfbc-f202-46b8-ada0-bd4f51da4466",
   "metadata": {},
   "outputs": [],
   "source": [
    "#create face embedding\n",
    "import tensorflow as tf\n",
    "from keras_facenet import FaceNet\n",
    "embedder = FaceNet()"
   ]
  },
  {
   "cell_type": "code",
   "execution_count": 46,
   "id": "6f40b7c6-6c03-4c1e-9bd7-34fa672a7002",
   "metadata": {},
   "outputs": [],
   "source": [
    "#face embedding generator function\n",
    "def get_embedding_facenet(face_pixels):\n",
    "    face_pixels = face_pixels.astype('float32')\n",
    "    mean, std = face_pixels.mean(), face_pixels.std()\n",
    "    face_pixels = (face_pixels - mean)/std\n",
    "    samples = np.expand_dims(face_pixels, axis=0)\n",
    "    embedding = embedder.model.predict(samples)\n",
    "    return embedding[0]"
   ]
  },
  {
   "cell_type": "code",
   "execution_count": 47,
   "id": "114cf06a-cb11-4d80-8732-e97a9e78f4de",
   "metadata": {},
   "outputs": [
    {
     "name": "stdout",
     "output_type": "stream",
     "text": [
      "1/1 [==============================] - 2s 2s/step\n"
     ]
    }
   ],
   "source": [
    "trainface_embedding = get_embedding_facenet(face)"
   ]
  },
  {
   "cell_type": "code",
   "execution_count": 50,
   "id": "b0089d56-a08e-4842-ba01-efce6f73235e",
   "metadata": {},
   "outputs": [
    {
     "name": "stdout",
     "output_type": "stream",
     "text": [
      "[-0.00453827  0.05723704 -0.01597803 -0.00623874  0.08644808  0.01612881\n",
      "  0.02698788  0.01854187 -0.0229231  -0.03435128  0.00324616 -0.03218399\n",
      " -0.02219504 -0.04733948  0.02987177 -0.03991032 -0.01656803  0.06523717\n",
      " -0.00089099  0.04314077  0.00483948  0.041541    0.03202881 -0.04650088\n",
      "  0.04359148  0.05137241  0.08792212 -0.04618868  0.07390659 -0.05648563\n",
      " -0.04602117  0.00370023 -0.06861848  0.0720872   0.08317295  0.04900444\n",
      "  0.049115   -0.04006304 -0.00548147  0.01856698  0.07397155 -0.04068609\n",
      "  0.00813338 -0.05191947 -0.102857   -0.05161855 -0.07994813  0.04970784\n",
      " -0.08930678 -0.00649526 -0.00475674 -0.05295987 -0.00274003  0.05497954\n",
      "  0.02313608 -0.03573774 -0.0238196   0.02974536  0.00588099 -0.0177815\n",
      "  0.04977529  0.06648789 -0.02259308  0.00444193  0.00562225 -0.09175745\n",
      "  0.0046155  -0.02499436  0.02853595 -0.03088366 -0.03604237 -0.03852984\n",
      " -0.04194935 -0.0515839   0.08475912 -0.0363245   0.00661439 -0.00675294\n",
      " -0.03142671 -0.07429854  0.01594148  0.00412836 -0.01196711 -0.06587541\n",
      " -0.00954185  0.04490469  0.01806323 -0.0370314  -0.01749652  0.04287203\n",
      "  0.03353178  0.00928246 -0.02679256 -0.02860333  0.0226266  -0.00411305\n",
      "  0.0064024  -0.01264622 -0.13559124  0.00134778 -0.03631192 -0.01909822\n",
      "  0.00665422  0.04103209 -0.08904035 -0.06143515  0.07312423  0.03762438\n",
      " -0.02060826  0.03222189  0.00988931 -0.02952218  0.03030895  0.01275716\n",
      " -0.01232881 -0.04101728 -0.04137685  0.0619719  -0.04259166  0.01697083\n",
      "  0.00823129  0.01998862  0.02642896  0.00487136 -0.06609017 -0.0298707\n",
      "  0.01248216 -0.03450225 -0.07733758  0.02422044 -0.02552346  0.00222951\n",
      " -0.02251947 -0.06698256 -0.0328758   0.04252798  0.08112284 -0.01641013\n",
      " -0.07068619  0.03640816  0.03471095 -0.07020054 -0.01638929  0.0789142\n",
      " -0.0581461  -0.02077559  0.00931492  0.00261649  0.02746279 -0.10028515\n",
      "  0.04474793  0.01631365 -0.06937709 -0.02967816  0.08408976 -0.03604889\n",
      " -0.01918129  0.07574499 -0.01045685  0.09943309  0.01193491  0.02748417\n",
      " -0.02115552  0.0310982   0.00385739  0.07886397 -0.0617242  -0.04183722\n",
      " -0.04948046  0.04099894 -0.01941452  0.00160036 -0.00576947 -0.0163576\n",
      "  0.07221431 -0.02093079 -0.01808504 -0.02801587 -0.11291745  0.06736092\n",
      " -0.01177261  0.05907633 -0.01954515 -0.00236429 -0.00663871 -0.00733005\n",
      "  0.02462437 -0.04369954  0.04660356  0.04488939  0.01336825  0.04969113\n",
      "  0.01952682 -0.08274391 -0.01336067 -0.03475571 -0.08881482  0.03052919\n",
      "  0.00586874 -0.02755987  0.01083363 -0.0746944  -0.00569294  0.01804174\n",
      "  0.01229781  0.0049096  -0.03631065  0.00112782 -0.02559333  0.05566141\n",
      "  0.01371473 -0.10343865 -0.00999897 -0.02834242 -0.07001995 -0.03758196\n",
      "  0.00340332  0.03125296 -0.05076474  0.01496019 -0.00873035 -0.0503814\n",
      " -0.00284593 -0.00702408  0.01383821  0.09007259  0.03090093 -0.0092162\n",
      " -0.02589677 -0.04248592 -0.01750054  0.07597854 -0.02172569 -0.02891744\n",
      "  0.03485334  0.02793681 -0.04559981 -0.03299426 -0.01141135  0.04625311\n",
      " -0.12611906 -0.06545413 -0.06268033  0.05235042  0.05361126  0.04767864\n",
      "  0.02517644 -0.06715039  0.01578728  0.02789039  0.00693865  0.02532299\n",
      "  0.00210453 -0.0490153   0.02540277 -0.04334035 -0.00888338  0.04521704\n",
      " -0.0264616   0.01732089  0.02017844  0.04156063 -0.00428129 -0.04517273\n",
      " -0.04476129 -0.03416726 -0.00425199  0.00268509 -0.05088653 -0.02640712\n",
      "  0.02280455  0.00252104 -0.01011909 -0.05133469  0.07752727  0.0542563\n",
      " -0.03752088 -0.05210242  0.04128506  0.06295033 -0.03784103  0.03572996\n",
      " -0.06576546  0.00278572 -0.10102374 -0.06220021 -0.00164894  0.02832153\n",
      "  0.05641898  0.03927565 -0.02215303 -0.08180932 -0.01195431 -0.00798052\n",
      "  0.01725609 -0.01470299  0.02298482  0.0107514  -0.08505634 -0.02018688\n",
      " -0.01987675 -0.01926608 -0.01823193  0.06700566  0.01744312 -0.07605925\n",
      "  0.00119135  0.02507423 -0.03470323 -0.04915832  0.00585023  0.0357237\n",
      "  0.01254968  0.04105964  0.07488439  0.06515902  0.05251111 -0.04585199\n",
      "  0.02011289 -0.01894779  0.07563645  0.00913354 -0.01756343  0.07577565\n",
      " -0.01473433  0.00285944  0.04131916  0.05006535 -0.04593127 -0.01702061\n",
      " -0.03348846 -0.05851439  0.01999808  0.03808977  0.02435091  0.00776605\n",
      "  0.06261523 -0.00859748 -0.02062947  0.01003231 -0.00638543 -0.01013443\n",
      " -0.02107035 -0.01980995  0.04800053  0.00864533  0.02599224  0.07510109\n",
      " -0.03696518 -0.01696308 -0.07712959  0.04972004  0.02486431  0.03575772\n",
      " -0.03990331  0.03260307  0.05677863 -0.02194466  0.03325956  0.03887392\n",
      "  0.08807111 -0.00511592 -0.02196531 -0.02040167 -0.04144088  0.04908305\n",
      " -0.00180654  0.01179934  0.02249204 -0.03062984 -0.01386614 -0.06221435\n",
      "  0.01263197  0.00333808 -0.0599062   0.04719288  0.00698075  0.01525505\n",
      " -0.01549865 -0.00636611  0.0381157   0.04425863  0.05150716 -0.00329802\n",
      "  0.11108296 -0.07856003 -0.06951094  0.05808008  0.05618104  0.02781285\n",
      " -0.02151227  0.07413316 -0.04556902  0.00959254 -0.07146855 -0.0405077\n",
      " -0.00439959  0.07179671 -0.0294012   0.03817547 -0.0595729   0.00404591\n",
      " -0.02214817 -0.00969434 -0.02385144  0.04983083 -0.03021662 -0.03791637\n",
      "  0.13636579  0.05153717  0.01500191  0.03828889  0.00216304 -0.0007193\n",
      " -0.04991617 -0.10951568 -0.01309018 -0.02233526  0.00419015 -0.10622064\n",
      "  0.00170817 -0.00265561 -0.05900456  0.00035112  0.01579534  0.00270083\n",
      "  0.02591566 -0.07734659  0.00894353 -0.00845497 -0.00091014  0.04691072\n",
      "  0.02016066 -0.0323429   0.00458894 -0.02527964 -0.0139177  -0.09823563\n",
      " -0.02435887 -0.03864423 -0.01013145  0.06534085 -0.06282134  0.0030321\n",
      " -0.04683018 -0.01198994 -0.02426298  0.06568927 -0.01173276 -0.00316178\n",
      "  0.02140227 -0.06553029 -0.03191005 -0.06465998  0.01253963  0.02339151\n",
      "  0.01417449  0.04232972  0.04344345  0.01612353  0.06286614  0.132017\n",
      "  0.00121068  0.02606805  0.02037032  0.06257232  0.03839948 -0.05651993\n",
      "  0.03914497  0.02193407  0.00756352 -0.01156675 -0.0105699  -0.01178478\n",
      "  0.02778488  0.04239484  0.05125319  0.11354869 -0.11351269 -0.07170697\n",
      "  0.05612161  0.00264454  0.05308276  0.03364485 -0.00646853  0.02951413\n",
      "  0.03039163  0.00372976 -0.07048063  0.01899439 -0.01445559 -0.05643474\n",
      " -0.00165103  0.00904865  0.04003697 -0.02366671 -0.06700291  0.00704942\n",
      " -0.00248837  0.00941642 -0.02066861 -0.0553634   0.02895105 -0.06123515\n",
      "  0.03360837 -0.0315617   0.02820995  0.02294595 -0.02049305 -0.05590704\n",
      "  0.03383042  0.01650778]\n"
     ]
    }
   ],
   "source": [
    "#printing face embedding\n",
    "print(trainface_embedding)"
   ]
  },
  {
   "cell_type": "code",
   "execution_count": 51,
   "id": "d1e4b5f0-7c62-4d7a-a666-a2d42dac6c39",
   "metadata": {},
   "outputs": [
    {
     "data": {
      "text/plain": [
       "(512,)"
      ]
     },
     "execution_count": 51,
     "metadata": {},
     "output_type": "execute_result"
    }
   ],
   "source": [
    "trainface_embedding.shape"
   ]
  },
  {
   "cell_type": "code",
   "execution_count": 52,
   "id": "95959f7f-b143-40ce-841c-4017c2dd0e40",
   "metadata": {},
   "outputs": [],
   "source": [
    "#saving trainface embedding in a file\n",
    "from numpy import savez_compressed\n",
    "np.savez_compressed(\"C:\\\\FaceRecognitionFiles\\\\puru_face_embedding.npz\",trainface_embedding,\"Puru\")"
   ]
  },
  {
   "cell_type": "code",
   "execution_count": 5,
   "id": "567ddaf6-2966-4137-b51a-5df0e741c478",
   "metadata": {},
   "outputs": [],
   "source": [
    "#testing with other images\n",
    "import cv2\n",
    "import tensorflow as tf\n",
    "from PIL import Image\n",
    "from mtcnn.mtcnn import MTCNN\n",
    "import numpy as np\n",
    "import matplotlib.pyplot as plt\n",
    "detector = MTCNN()\n",
    "from keras_facenet import FaceNet\n",
    "embedder = FaceNet()"
   ]
  },
  {
   "cell_type": "code",
   "execution_count": 6,
   "id": "d22658c1-4ba1-4d67-8bba-6136977015c5",
   "metadata": {},
   "outputs": [],
   "source": [
    "#to load an image from filepath"
   ]
  },
  {
   "cell_type": "code",
   "execution_count": 46,
   "id": "4374b6f4-fe2c-4077-b790-3b10f2e7bb8c",
   "metadata": {},
   "outputs": [],
   "source": [
    "faces = cv2.imread(\"C:\\\\FaceRecognitionFiles\\\\testpic2.jpg\")"
   ]
  },
  {
   "cell_type": "code",
   "execution_count": 47,
   "id": "161ca8a4-384d-44cb-a3db-b4769a4ffdc7",
   "metadata": {},
   "outputs": [],
   "source": [
    "cv2.imshow('test image', faces)\n",
    "cv2.waitKey(0)\n",
    "cv2.destroyAllWindows()"
   ]
  },
  {
   "cell_type": "code",
   "execution_count": 29,
   "id": "b21ad772-9de0-41fd-87ac-c69f6f1bc566",
   "metadata": {},
   "outputs": [],
   "source": [
    "#to load image from camera\n",
    "cap = cv2.VideoCapture(0)"
   ]
  },
  {
   "cell_type": "code",
   "execution_count": 53,
   "id": "97edc594-3be5-4b7c-b772-685215061b05",
   "metadata": {},
   "outputs": [],
   "source": [
    "for i in range(10):\n",
    "    has_image, image = cap.read()\n",
    "    if not has_image:\n",
    "        print('No frames are captured')\n",
    "    #frame = cv2.resize(frame,(160,160))\n",
    "    \n",
    "cv2.imshow('testimage',image)\n",
    "cv2.waitKey(0)\n",
    "cv2.destroyAllWindows()"
   ]
  },
  {
   "cell_type": "code",
   "execution_count": 54,
   "id": "c89ee604-d10c-4b8d-bdb1-9a7e654c21a6",
   "metadata": {},
   "outputs": [],
   "source": [
    "faces = image"
   ]
  },
  {
   "cell_type": "code",
   "execution_count": 55,
   "id": "861d971e-8660-45d0-9421-1d0b0f71bcef",
   "metadata": {},
   "outputs": [
    {
     "name": "stdout",
     "output_type": "stream",
     "text": [
      "1/1 [==============================] - 0s 35ms/step\n",
      "1/1 [==============================] - 0s 23ms/step\n",
      "1/1 [==============================] - 0s 23ms/step\n",
      "1/1 [==============================] - 0s 23ms/step\n",
      "1/1 [==============================] - 0s 23ms/step\n",
      "1/1 [==============================] - 0s 23ms/step\n",
      "1/1 [==============================] - 0s 23ms/step\n",
      "1/1 [==============================] - 0s 23ms/step\n",
      "1/1 [==============================] - 0s 23ms/step\n",
      "1/1 [==============================] - 0s 23ms/step\n",
      "2/2 [==============================] - 0s 256ms/step\n"
     ]
    }
   ],
   "source": [
    "faces_metadata = detector.detect_faces(faces)"
   ]
  },
  {
   "cell_type": "code",
   "execution_count": 56,
   "id": "93e407a1-09e5-4aed-b695-580369927db9",
   "metadata": {},
   "outputs": [
    {
     "name": "stdout",
     "output_type": "stream",
     "text": [
      "number of faces =  0\n"
     ]
    }
   ],
   "source": [
    "print('number of faces = ',len(faces_metadata))"
   ]
  },
  {
   "cell_type": "code",
   "execution_count": 41,
   "id": "e226d0d0-6b7e-4e55-b74e-2a5eb58acca3",
   "metadata": {},
   "outputs": [
    {
     "name": "stdout",
     "output_type": "stream",
     "text": [
      "[]\n"
     ]
    }
   ],
   "source": [
    "print(faces_metadata)"
   ]
  },
  {
   "cell_type": "code",
   "execution_count": 12,
   "id": "585e66ae-1f02-45f3-a6eb-c16039739268",
   "metadata": {},
   "outputs": [],
   "source": [
    "x = int(faces_metadata[2]['box'][0])\n",
    "y = int(faces_metadata[2]['box'][1])\n",
    "w = int(faces_metadata[2]['box'][2])\n",
    "h = int(faces_metadata[2]['box'][3])\n",
    "\n",
    "detected_face = cv2.rectangle(faces, (x,y),(x+w,y+h), color=255, thickness=3) #see the detected face outlines\n",
    "cv2.imshow('Detected face with rectangle',detected_face)\n",
    "cv2.waitKey(0)\n",
    "cv2.destroyAllWindows()"
   ]
  },
  {
   "cell_type": "code",
   "execution_count": 13,
   "id": "e49953f4-9aab-4afd-9abc-cecece33f7fa",
   "metadata": {},
   "outputs": [],
   "source": [
    "#get list of faces\n",
    "def get_faces(image, faces_metadata, required_size = (160,160)):\n",
    "    faces = []\n",
    "    for i in range(len(faces_metadata)):\n",
    "        face_index=0\n",
    "        x = int(faces_metadata[i]['box'][0])\n",
    "        y = int(faces_metadata[i]['box'][1])\n",
    "        w = int(faces_metadata[i]['box'][2])\n",
    "        h = int(faces_metadata[i]['box'][3])\n",
    "        \n",
    "        face = image[y:y+h, x:x+w]\n",
    "        face = Image.fromarray(face)\n",
    "        face = face.resize(required_size)\n",
    "        face = np.asarray(face)\n",
    "        faces.append(face)\n",
    "        \n",
    "    return faces"
   ]
  },
  {
   "cell_type": "code",
   "execution_count": 14,
   "id": "2fa3681a-522f-4c6d-a998-10f3a200988f",
   "metadata": {},
   "outputs": [],
   "source": [
    "facesdata = get_faces(faces, faces_metadata, required_size = (160,160))"
   ]
  },
  {
   "cell_type": "code",
   "execution_count": 15,
   "id": "e7830a31-3cfe-4169-bd49-73f88e6b8249",
   "metadata": {},
   "outputs": [
    {
     "name": "stdout",
     "output_type": "stream",
     "text": [
      "number of faces =  3\n"
     ]
    }
   ],
   "source": [
    "print('number of faces = ', len(facesdata))"
   ]
  },
  {
   "cell_type": "code",
   "execution_count": 16,
   "id": "ae2abb01-3dd7-4d9c-8503-2d2845e54938",
   "metadata": {},
   "outputs": [],
   "source": [
    "#get embedding data of all faces\n",
    "def get_embedding_facenet(face_pixels):\n",
    "    face_pixels = face_pixels.astype('float32')\n",
    "    mean, std = face_pixels.mean(), face_pixels.std()\n",
    "    face_pixels = (face_pixels - mean)/std\n",
    "    #transform face into one smaple \n",
    "    samples = np.expand_dims(face_pixels, axis=0)\n",
    "    #make prediction to get embedding\n",
    "    embedding = embedder.model.predict(samples)\n",
    "    return embedding[0]"
   ]
  },
  {
   "cell_type": "code",
   "execution_count": 17,
   "id": "940a9747-6861-4b35-98a4-b15b10a4b086",
   "metadata": {},
   "outputs": [
    {
     "name": "stdout",
     "output_type": "stream",
     "text": [
      "1/1 [==============================] - 2s 2s/step\n",
      "1/1 [==============================] - 0s 41ms/step\n",
      "1/1 [==============================] - 0s 34ms/step\n"
     ]
    }
   ],
   "source": [
    "face_embeddings = []\n",
    "for i in range(len(facesdata)):\n",
    "    face_embedding = get_embedding_facenet(facesdata[i])\n",
    "    face_embeddings.append(face_embedding)"
   ]
  },
  {
   "cell_type": "code",
   "execution_count": 18,
   "id": "3592246c-151e-4a82-9dc6-9d727eb96cf1",
   "metadata": {},
   "outputs": [],
   "source": [
    "#loading my embedding\n",
    "def load_numpy_faces(faces_dataset_numpy):\n",
    "    from numpy import load\n",
    "    data = load(faces_dataset_numpy)\n",
    "    faces, labels = data['arr_0'], data['arr_1']\n",
    "    return faces, labels\n"
   ]
  },
  {
   "cell_type": "code",
   "execution_count": 19,
   "id": "219feadd-bdcf-435a-a178-40e542469fbf",
   "metadata": {},
   "outputs": [],
   "source": [
    "faces_dataset_numpy = 'C:\\\\FaceRecognitionFiles\\\\puru_face_embedding.npz'\n",
    "puru_face_embedding, puru_name = load_numpy_faces(faces_dataset_numpy)"
   ]
  },
  {
   "cell_type": "code",
   "execution_count": 20,
   "id": "7bb09656-e51a-483d-b583-3e3d2d003f1d",
   "metadata": {},
   "outputs": [],
   "source": [
    "faces_distances = np.linalg.norm(face_embeddings - puru_face_embedding, axis=1)"
   ]
  },
  {
   "cell_type": "code",
   "execution_count": 21,
   "id": "b9fd8ec4-6e00-40bf-889c-1c9c96e4c191",
   "metadata": {},
   "outputs": [
    {
     "data": {
      "text/plain": [
       "array([0.7161484, 1.2717508, 1.1657768], dtype=float32)"
      ]
     },
     "execution_count": 21,
     "metadata": {},
     "output_type": "execute_result"
    }
   ],
   "source": [
    "faces_distances"
   ]
  },
  {
   "cell_type": "code",
   "execution_count": 22,
   "id": "599679fb-30e4-4cf6-a38e-59f26812a34c",
   "metadata": {},
   "outputs": [
    {
     "name": "stdout",
     "output_type": "stream",
     "text": [
      "face with closest distance is:  0\n"
     ]
    }
   ],
   "source": [
    "print('face with closest distance is: ', np.argmin(faces_distances))"
   ]
  },
  {
   "cell_type": "code",
   "execution_count": 23,
   "id": "162f94d9-f55b-443c-ad76-fb1afab1da46",
   "metadata": {},
   "outputs": [
    {
     "name": "stdout",
     "output_type": "stream",
     "text": [
      "[[[ 46  54  61]\n",
      "  [ 54  62  69]\n",
      "  [ 58  66  73]\n",
      "  ...\n",
      "  [ 85 100 109]\n",
      "  [ 79  94 103]\n",
      "  [ 83  99 111]]\n",
      "\n",
      " [[ 46  54  61]\n",
      "  [ 52  60  67]\n",
      "  [ 58  66  73]\n",
      "  ...\n",
      "  [ 84  99 108]\n",
      "  [ 78  93 102]\n",
      "  [ 80  96 108]]\n",
      "\n",
      " [[ 44  52  59]\n",
      "  [ 48  56  63]\n",
      "  [ 54  62  69]\n",
      "  ...\n",
      "  [ 87 102 111]\n",
      "  [ 81  96 105]\n",
      "  [ 82  98 110]]\n",
      "\n",
      " ...\n",
      "\n",
      " [[ 33  39  38]\n",
      "  [ 35  41  40]\n",
      "  [ 36  42  41]\n",
      "  ...\n",
      "  [185 180 171]\n",
      "  [185 180 171]\n",
      "  [189 182 173]]\n",
      "\n",
      " [[ 33  39  38]\n",
      "  [ 33  39  38]\n",
      "  [ 34  40  39]\n",
      "  ...\n",
      "  [183 178 169]\n",
      "  [182 177 168]\n",
      "  [189 182 173]]\n",
      "\n",
      " [[ 33  39  38]\n",
      "  [ 32  38  37]\n",
      "  [ 32  38  37]\n",
      "  ...\n",
      "  [184 179 170]\n",
      "  [183 178 169]\n",
      "  [189 182 173]]]\n"
     ]
    }
   ],
   "source": [
    "print(facesdata[0])"
   ]
  },
  {
   "cell_type": "code",
   "execution_count": 26,
   "id": "526f05ae-c041-4a72-8b29-35871cff6205",
   "metadata": {},
   "outputs": [],
   "source": [
    "if(faces_distances[np.argmin(faces_distances)] < 1):\n",
    "    cv2.imshow('Answer', facesdata[np.argmin(faces_distances)])\n",
    "    cv2.waitKey(0)\n",
    "    cv2.destroyAllWindows()\n",
    "else:\n",
    "    print('Face not found')"
   ]
  },
  {
   "cell_type": "code",
   "execution_count": null,
   "id": "20d218a4-faf1-42b5-bd1a-8f36e66cfbb1",
   "metadata": {},
   "outputs": [],
   "source": []
  }
 ],
 "metadata": {
  "kernelspec": {
   "display_name": "tf",
   "language": "python",
   "name": "tf"
  },
  "language_info": {
   "codemirror_mode": {
    "name": "ipython",
    "version": 3
   },
   "file_extension": ".py",
   "mimetype": "text/x-python",
   "name": "python",
   "nbconvert_exporter": "python",
   "pygments_lexer": "ipython3",
   "version": "3.9.12"
  }
 },
 "nbformat": 4,
 "nbformat_minor": 5
}
